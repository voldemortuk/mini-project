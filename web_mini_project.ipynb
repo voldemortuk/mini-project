{
  "nbformat": 4,
  "nbformat_minor": 0,
  "metadata": {
    "accelerator": "GPU",
    "colab": {
      "name": "web-mini-project.ipynb",
      "provenance": [],
      "collapsed_sections": []
    },
    "kernelspec": {
      "display_name": "Python 3",
      "name": "python3"
    },
    "language_info": {
      "name": "python"
    }
  },
  "cells": [
    {
      "cell_type": "code",
      "metadata": {
        "colab": {
          "base_uri": "https://localhost:8080/"
        },
        "id": "7O0eNGgWrGc_",
        "outputId": "387656cc-1bbc-4fb9-8bfe-99deb9be0dbd"
      },
      "source": [
        "!git clone https://github.com/ravijyoti3/mini-project.git"
      ],
      "execution_count": null,
      "outputs": [
        {
          "output_type": "stream",
          "text": [
            "Cloning into 'mini-project'...\n",
            "remote: Enumerating objects: 372, done.\u001b[K\n",
            "remote: Counting objects: 100% (372/372), done.\u001b[K\n",
            "remote: Compressing objects: 100% (302/302), done.\u001b[K\n",
            "remote: Total 372 (delta 76), reused 343 (delta 50), pack-reused 0\u001b[K\n",
            "Receiving objects: 100% (372/372), 64.46 MiB | 15.36 MiB/s, done.\n",
            "Resolving deltas: 100% (76/76), done.\n"
          ],
          "name": "stdout"
        }
      ]
    },
    {
      "cell_type": "code",
      "metadata": {
        "colab": {
          "base_uri": "https://localhost:8080/"
        },
        "id": "UKpVuzf4rVkD",
        "outputId": "274e00c7-9e89-4358-cc0c-f02045adf3c5"
      },
      "source": [
        "%cd mini-project"
      ],
      "execution_count": null,
      "outputs": [
        {
          "output_type": "stream",
          "text": [
            "/content/mini-project\n"
          ],
          "name": "stdout"
        }
      ]
    },
    {
      "cell_type": "code",
      "metadata": {
        "colab": {
          "base_uri": "https://localhost:8080/"
        },
        "id": "T7mlL1J4rbpi",
        "outputId": "2ffe39ff-bf8b-4c46-bd78-fe79eaf13646"
      },
      "source": [
        "!ls"
      ],
      "execution_count": null,
      "outputs": [
        {
          "output_type": "stream",
          "text": [
            "app.py\t       index.py\t\tmodels\t     RF_model.pkl   templates\n",
            "chexnetPickle  inner-page.html\t__pycache__  static\n",
            "chexnet.pkl    LR_model.pkl\tREADME.md    static1\n",
            "GNB_model.pkl  LR_mosdel.pkl\tReadme.txt   SVM_model.pkl\n"
          ],
          "name": "stdout"
        }
      ]
    },
    {
      "cell_type": "code",
      "metadata": {
        "colab": {
          "base_uri": "https://localhost:8080/"
        },
        "id": "bymViAwvsgTQ",
        "outputId": "1652985d-a99f-4ba8-c346-c0f5de47ebac"
      },
      "source": [
        "!pip install flask-ngrok"
      ],
      "execution_count": null,
      "outputs": [
        {
          "output_type": "stream",
          "text": [
            "Collecting flask-ngrok\n",
            "  Downloading flask_ngrok-0.0.25-py3-none-any.whl (3.1 kB)\n",
            "Requirement already satisfied: Flask>=0.8 in /usr/local/lib/python3.7/dist-packages (from flask-ngrok) (1.1.4)\n",
            "Requirement already satisfied: requests in /usr/local/lib/python3.7/dist-packages (from flask-ngrok) (2.23.0)\n",
            "Requirement already satisfied: Werkzeug<2.0,>=0.15 in /usr/local/lib/python3.7/dist-packages (from Flask>=0.8->flask-ngrok) (1.0.1)\n",
            "Requirement already satisfied: itsdangerous<2.0,>=0.24 in /usr/local/lib/python3.7/dist-packages (from Flask>=0.8->flask-ngrok) (1.1.0)\n",
            "Requirement already satisfied: Jinja2<3.0,>=2.10.1 in /usr/local/lib/python3.7/dist-packages (from Flask>=0.8->flask-ngrok) (2.11.3)\n",
            "Requirement already satisfied: click<8.0,>=5.1 in /usr/local/lib/python3.7/dist-packages (from Flask>=0.8->flask-ngrok) (7.1.2)\n",
            "Requirement already satisfied: MarkupSafe>=0.23 in /usr/local/lib/python3.7/dist-packages (from Jinja2<3.0,>=2.10.1->Flask>=0.8->flask-ngrok) (2.0.1)\n",
            "Requirement already satisfied: idna<3,>=2.5 in /usr/local/lib/python3.7/dist-packages (from requests->flask-ngrok) (2.10)\n",
            "Requirement already satisfied: chardet<4,>=3.0.2 in /usr/local/lib/python3.7/dist-packages (from requests->flask-ngrok) (3.0.4)\n",
            "Requirement already satisfied: urllib3!=1.25.0,!=1.25.1,<1.26,>=1.21.1 in /usr/local/lib/python3.7/dist-packages (from requests->flask-ngrok) (1.24.3)\n",
            "Requirement already satisfied: certifi>=2017.4.17 in /usr/local/lib/python3.7/dist-packages (from requests->flask-ngrok) (2021.5.30)\n",
            "Installing collected packages: flask-ngrok\n",
            "Successfully installed flask-ngrok-0.0.25\n"
          ],
          "name": "stdout"
        }
      ]
    },
    {
      "cell_type": "code",
      "metadata": {
        "colab": {
          "base_uri": "https://localhost:8080/"
        },
        "id": "XTAj3cLfzREB",
        "outputId": "fc8aab1f-8a2a-44b3-b77b-04112c7b3e71"
      },
      "source": [
        "!python app.py"
      ],
      "execution_count": null,
      "outputs": [
        {
          "output_type": "stream",
          "text": [
            "2021-08-09 20:10:04.350206: I tensorflow/stream_executor/platform/default/dso_loader.cc:53] Successfully opened dynamic library libcudart.so.11.0\n",
            "/usr/local/lib/python3.7/dist-packages/sklearn/base.py:318: UserWarning: Trying to unpickle estimator LogisticRegression from version 0.23.2 when using version 0.22.2.post1. This might lead to breaking code or invalid results. Use at your own risk.\n",
            "  UserWarning)\n",
            "static/image\n",
            "static/image\n",
            " * Serving Flask app \"app\" (lazy loading)\n",
            " * Environment: production\n",
            "\u001b[31m   WARNING: This is a development server. Do not use it in a production deployment.\u001b[0m\n",
            "\u001b[2m   Use a production WSGI server instead.\u001b[0m\n",
            " * Debug mode: off\n",
            " * Running on http://127.0.0.1:5000/ (Press CTRL+C to quit)\n",
            " * Running on http://dc6cbf875f22.ngrok.io\n",
            " * Traffic stats available on http://127.0.0.1:4040\n",
            "127.0.0.1 - - [09/Aug/2021 20:10:36] \"\u001b[37mGET / HTTP/1.1\u001b[0m\" 200 -\n",
            "127.0.0.1 - - [09/Aug/2021 20:10:36] \"\u001b[37mGET /static/assets/bootstrap/css/bootstrap.min.css HTTP/1.1\u001b[0m\" 200 -\n",
            "127.0.0.1 - - [09/Aug/2021 20:10:37] \"\u001b[37mGET /static/assets/js/jquery.min.js HTTP/1.1\u001b[0m\" 200 -\n",
            "127.0.0.1 - - [09/Aug/2021 20:10:37] \"\u001b[37mGET /static/assets/fonts/font-awesome.min.css HTTP/1.1\u001b[0m\" 200 -\n",
            "127.0.0.1 - - [09/Aug/2021 20:10:37] \"\u001b[37mGET /static/assets/fonts/simple-line-icons.min.css HTTP/1.1\u001b[0m\" 200 -\n",
            "127.0.0.1 - - [09/Aug/2021 20:10:37] \"\u001b[37mGET /static/assets/bootstrap/js/bootstrap.min.js HTTP/1.1\u001b[0m\" 200 -\n",
            "127.0.0.1 - - [09/Aug/2021 20:10:37] \"\u001b[37mGET /static/assets/js/stylish-portfolio.js HTTP/1.1\u001b[0m\" 200 -\n",
            "127.0.0.1 - - [09/Aug/2021 20:10:38] \"\u001b[37mGET /static/assets/fonts/Simple-Line-Icons.woff2?v=2.4.0 HTTP/1.1\u001b[0m\" 200 -\n",
            "127.0.0.1 - - [09/Aug/2021 20:10:39] \"\u001b[37mGET /static/assets/fonts/fontawesome-webfont.woff2?v=4.7.0 HTTP/1.1\u001b[0m\" 200 -\n",
            "127.0.0.1 - - [09/Aug/2021 20:10:41] \"\u001b[33mGET /favicon.ico HTTP/1.1\u001b[0m\" 404 -\n",
            "image  <FileStorage: '00000013_005.png' ('image/png')>\n",
            "/content/mini-project/static/image/00000013_005.png\n",
            "torch.Size([1, 3, 224, 224])\n",
            "torch.Size([1, 3, 224, 224])\n",
            "/usr/local/lib/python3.7/dist-packages/torch/nn/functional.py:718: UserWarning: Named tensors and all their associated APIs are an experimental feature and subject to change. Please do not use them for anything important until they are released as stable. (Triggered internally at  /pytorch/c10/core/TensorImpl.h:1156.)\n",
            "  return torch.max_pool2d(input, kernel_size, stride, padding, dilation, ceil_mode)\n",
            "Pneumothorax\n",
            "127.0.0.1 - - [09/Aug/2021 20:11:20] \"\u001b[37mPOST /overall HTTP/1.1\u001b[0m\" 200 -\n",
            "127.0.0.1 - - [09/Aug/2021 20:11:21] \"\u001b[37mGET /static/image/00000013_005.png HTTP/1.1\u001b[0m\" 200 -\n",
            "127.0.0.1 - - [09/Aug/2021 20:11:23] \"\u001b[33mGET /favicon.ico HTTP/1.1\u001b[0m\" 404 -\n"
          ],
          "name": "stdout"
        }
      ]
    },
    {
      "cell_type": "code",
      "metadata": {
        "id": "BAWIjEkVZxV1"
      },
      "source": [
        ""
      ],
      "execution_count": null,
      "outputs": []
    },
    {
      "cell_type": "code",
      "metadata": {
        "id": "mM-RtkEHwoCV"
      },
      "source": [
        ""
      ],
      "execution_count": null,
      "outputs": []
    }
  ]
}